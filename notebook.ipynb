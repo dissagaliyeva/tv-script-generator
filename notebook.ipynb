{
 "cells": [
  {
   "cell_type": "markdown",
   "metadata": {
    "collapsed": true,
    "pycharm": {
     "name": "#%% md\n"
    }
   },
   "source": [
    "# TV Script Generator\n",
    "\n",
    "Coming up with a good script takes a lot of time and effort. Human brains are made in a way that after a certain point, our thought will keep repeating; they have a pattern. Therefore, making an entertaining episode while maintaining the characters' behaviors and characteristics is quite a challenge. Why not take help from AI to see if it can give some insights or, even better, write a whole script? This project is made in a way to do exactly that.\n",
    "\n",
    "Here we have 9 seasons of Seinfeld TV series to give the model enough data to grasp from."
   ]
  },
  {
   "cell_type": "code",
   "execution_count": null,
   "outputs": [],
   "source": [],
   "metadata": {
    "collapsed": false,
    "pycharm": {
     "name": "#%%\n"
    }
   }
  }
 ],
 "metadata": {
  "kernelspec": {
   "display_name": "Python 3",
   "language": "python",
   "name": "python3"
  },
  "language_info": {
   "codemirror_mode": {
    "name": "ipython",
    "version": 2
   },
   "file_extension": ".py",
   "mimetype": "text/x-python",
   "name": "python",
   "nbconvert_exporter": "python",
   "pygments_lexer": "ipython2",
   "version": "2.7.6"
  }
 },
 "nbformat": 4,
 "nbformat_minor": 0
}